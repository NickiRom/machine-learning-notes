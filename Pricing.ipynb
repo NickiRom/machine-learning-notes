{
 "cells": [
  {
   "cell_type": "markdown",
   "metadata": {},
   "source": [
    "# Notes from MIT Sloan course on pricing\n",
    "\n",
    "[**notes can be found here**](http://ocw.mit.edu/courses/sloan-school-of-management/15-818-pricing-spring-2010/lecture-notes/MIT15_818S10_lec01.pdf)"
   ]
  },
  {
   "cell_type": "markdown",
   "metadata": {},
   "source": [
    "# I. The Three C's\n",
    "** Imperative to price based on all of these, and stupid to price based on fixing value of one **\n",
    "\n",
    "## Margin (Costs)\n",
    "- e.g. controlling moving average of payout to reflect a margin over CPM\n",
    "\n",
    "## Performance (Customer)\n",
    "- e.g. paying exorbitant bid prices to get all RM converters\n",
    "\n",
    "\n",
    "## Win rate (Competition)\n",
    "- e.g. picking one bid price for all strategies that results in a desired overall win rate\n",
    "\n"
   ]
  },
  {
   "cell_type": "markdown",
   "metadata": {},
   "source": [
    "## Price elasticity of demand\n",
    "- when changing price by 0.01, how much does availability of demand change?\n",
    "- Win Rate as a function of bid price"
   ]
  },
  {
   "cell_type": "code",
   "execution_count": null,
   "metadata": {
    "collapsed": true
   },
   "outputs": [],
   "source": []
  }
 ],
 "metadata": {
  "kernelspec": {
   "display_name": "Python 2",
   "language": "python",
   "name": "python2"
  },
  "language_info": {
   "codemirror_mode": {
    "name": "ipython",
    "version": 2
   },
   "file_extension": ".py",
   "mimetype": "text/x-python",
   "name": "python",
   "nbconvert_exporter": "python",
   "pygments_lexer": "ipython2",
   "version": "2.7.10"
  }
 },
 "nbformat": 4,
 "nbformat_minor": 0
}
