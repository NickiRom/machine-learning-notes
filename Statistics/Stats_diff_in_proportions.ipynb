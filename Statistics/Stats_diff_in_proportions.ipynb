{
 "cells": [
  {
   "cell_type": "markdown",
   "metadata": {},
   "source": [
    "# Central Limit Theorem (CLT)\n",
    "\n",
    "The distribution of many independent, identically distributed (iid) random variables has a bell shape with the probability density function:\n",
    "\n",
    "$$f(x; \\mu, \\sigma^2) = \\frac{1}{\\sigma\\sqrt{2\\pi}}e^{-\\frac{1}{2}\\left(\\frac{x-\\mu}{\\sigma}\\right)^2}$$\n",
    "\n",
    "### For Bernoulli trials\n",
    "- mean: $p = \\frac{\\text{# successes}}{n}$\n",
    "- variance: $\\sigma^2 = p(1-p)$\n",
    "\n",
    "### Many sets of Bernoulli trials forms a binomial distribution\n",
    "\n",
    "$$ \\binom{n}{r} $$\n",
    "- mean: $np$\n",
    "- variance: $\\sigma^2 = np(1-p)$\n",
    "- Confidence Interval: $$\\hat{p} \\pm Z_{1-\\alpha/2}\\sqrt{\\frac{\\hat{p}(1-\\hat{p})}{n}}$$,\n",
    "\n",
    "where $\\hat{p}$ indicates that we have applied the CLT to approximate a normal distribution from a binomial distribution"
   ]
  },
  {
   "cell_type": "markdown",
   "metadata": {},
   "source": [
    "# Difference in proportions\n",
    "\n",
    "<img src=\"../images/diff_in_props.png\">\n",
    "\n",
    "### with specified power and significance\n",
    "\n",
    "**Z-score: ** The number of standard deviations a sample measurement x is from the population mean $\\mu$\n",
    "\n",
    "$$ Z = \\frac{x-\\mu}{\\sigma},$$\n",
    "\n",
    "$$n = \\left(\\frac{Z_{\\alpha/2}\\sigma}{E}\\right)^2$$\n",
    "\n",
    "where $\\sigma$ is the standard deviation, defined by $$\\sigma_{\\text{discrete}} = \\sqrt{\\sum_1^N{p_i (x_i-\\mu_i)^2}}$$\n",
    "\n",
    "$$\\sigma_{\\text{continuous}} = \\sqrt{\\int_x{ (x-\\mu)^2 p(x)dx}}$$\n",
    "\n",
    "The notation $Z_{\\alpha/2}$ denotes the number of standard deviations from the mean are encompassed in either direction by a particular Type-I error level ($\\alpha$)\n",
    "\n",
    "$$x = \\left(\\mu \\pm Z_{\\alpha/2}\\sigma \\right)$$\n",
    "\n",
    "\n",
    "$$P(Z_\\alpha/2) = 1.645$$ for a two-tailed "
   ]
  },
  {
   "cell_type": "markdown",
   "metadata": {},
   "source": [
    "**Significance:** If the null hypothesis is true, how likely are we to see such an extreme effect?\n",
    "\n",
    "$$\\alpha = 5\\%:$$\n",
    "\n",
    "$$Z_{\\alpha/2} = 1.96$$\n",
    "$$Z_{\\alpha} = 1.645$$\n",
    "\n",
    "Rejection region, aka **Critical value**: \n",
    "$$Zscore >= \\mu + \\sqrt{\\frac{\\sigma^2}{n_1} + \\frac{\\sigma^2}{n_2}}*Z_{\\alpha}$$\n",
    "\n",
    "**Power:** If the alternative hypothesis is true, how likely are we to reject the null hypothesis?\n",
    "\n",
    "Given another population, what % of the population's distribution is in the rejection region?\n",
    "\n",
    "$$Z_{\\beta/2} = \\frac{criticalValue - alternativeDiff}{\\sqrt{\\frac{\\sigma^2}{n_1} + \\frac{\\sigma^2}{n_2}}}$$\n",
    "\n"
   ]
  },
  {
   "cell_type": "markdown",
   "metadata": {
    "collapsed": true
   },
   "source": [
    "# Multiple comparisons\n",
    "\n",
    "When using a single data source to test k multiple hypotheses, the probability $\\alpha$ of a false positive result grows**\\***.\n",
    "\n",
    "In this case, the Family-Wise Error Rate (FWER) is:\n",
    "\n",
    "$$ \\alpha_{FWER} = 1-(1-\\alpha_{\\text{per comparison}})^k$$\n",
    "\n",
    "\n",
    "\n",
    "\\* **note: ** inflation of Type I Error is avoided if hypothesese are perfectly dependent (in that case you're looking for the same thing k different ways)\n",
    "\n"
   ]
  }
 ],
 "metadata": {
  "kernelspec": {
   "display_name": "Python 2",
   "language": "python",
   "name": "python2"
  },
  "language_info": {
   "codemirror_mode": {
    "name": "ipython",
    "version": 2
   },
   "file_extension": ".py",
   "mimetype": "text/x-python",
   "name": "python",
   "nbconvert_exporter": "python",
   "pygments_lexer": "ipython2",
   "version": "2.7.11"
  }
 },
 "nbformat": 4,
 "nbformat_minor": 0
}
