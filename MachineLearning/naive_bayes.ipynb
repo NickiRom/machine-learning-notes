{
 "cells": [
  {
   "cell_type": "markdown",
   "metadata": {},
   "source": [
    "### Pros\n",
    "- Computationally fast\n",
    "- Simple to implement\n",
    "- Works well with high dimensions\n",
    "\n",
    "### Cons\n",
    "- poor performance if independence assumptions are not met"
   ]
  },
  {
   "cell_type": "markdown",
   "metadata": {
    "collapsed": true
   },
   "source": [
    "<img src='../images/Bayes_41.png' width='500' height='300'>\n",
    "<img src='../images/Bayes_rule-300x172.png' width='300' height='120'>"
   ]
  },
  {
   "cell_type": "markdown",
   "metadata": {},
   "source": [
    "### Types of naive bayes\n",
    "**Gaussian** assumes data follows Gaussian distribution\n",
    "\n",
    "**Multinomial** for discrete counts, e.g. of a word in a text opus\n",
    "\n",
    "**Bernoulli** for binary features"
   ]
  },
  {
   "cell_type": "code",
   "execution_count": null,
   "metadata": {
    "collapsed": true
   },
   "outputs": [],
   "source": []
  }
 ],
 "metadata": {
  "kernelspec": {
   "display_name": "py36",
   "language": "python",
   "name": "py36"
  },
  "language_info": {
   "codemirror_mode": {
    "name": "ipython",
    "version": 2
   },
   "file_extension": ".py",
   "mimetype": "text/x-python",
   "name": "python",
   "nbconvert_exporter": "python",
   "pygments_lexer": "ipython2",
   "version": "2.7.13"
  }
 },
 "nbformat": 4,
 "nbformat_minor": 2
}
