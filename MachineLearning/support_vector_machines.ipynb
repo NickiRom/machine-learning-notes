{
 "cells": [
  {
   "cell_type": "markdown",
   "metadata": {},
   "source": [
    "### Definitions\n",
    "\n",
    "**SVM** generates a maximum-margin separating hyperplane to distinguish classes\n",
    "**kernel trick** projects n features into >n dimensions in order to enable a separable hyperplane\n",
    "**\n",
    "\n",
    "### Parameters\n",
    "\n",
    "**C=1.0**\n",
    "**kernel='rbf'** linear, rbf, poly, sigmoid...\n",
    "**degree=3** degree of poly kernel only\n",
    "**gamma=0.0** kernel coefficient for rbf, poly, sigmoid.  Auto = 1/n\n",
    "**coef0=0.0** independent term in poly and sigmoid only\n",
    "**shrinking=True** \n",
    "**probability=False**\n",
    "**tol=0.001** tolerance for stopping criteria\n",
    "**cache_size=200**\n",
    "**class_weight=None**\n",
    "\n",
    "### Pros:\n",
    "- Works well if there's a clear margin of separation\n",
    "- It is effective in high dimensional spaces.\n",
    "- good when ndims >> nsamples\n",
    "- Memory efficient: only has to remember support vectors\n",
    "\n",
    "### Cons:\n",
    "- long training time (doesn't perform well on huge datasets)\n",
    "- doesn't perform on noisy data\n",
    "- doesn't directly provide probability estimates (need to do cross-validation to get them)\n"
   ]
  },
  {
   "cell_type": "markdown",
   "metadata": {},
   "source": [
    "<img src='../images/svm_schematic.png' width='500' height='300'>\n",
    "<img src='../images/svm_optimization.png' width='500' height='300'>\n",
    "<img src='../images/svm_loss.png' width='500' height='300'>"
   ]
  },
  {
   "cell_type": "markdown",
   "metadata": {},
   "source": [
    "## In practice\n",
    "\n",
    "### Using SVMs effectively\n",
    "https://neerajkumar.org/writings/svm/\n",
    "\n",
    "- whiten data so that it is bounded by 0 to 1 or -1 to 1\n",
    "- \n",
    "\n",
    "### Linear algebra\n",
    "http://www.souravsengupta.com/cds2016/lectures/Savov_Notes.pdf"
   ]
  },
  {
   "cell_type": "code",
   "execution_count": null,
   "metadata": {
    "collapsed": true
   },
   "outputs": [],
   "source": []
  }
 ],
 "metadata": {
  "kernelspec": {
   "display_name": "py36",
   "language": "python",
   "name": "py36"
  },
  "language_info": {
   "codemirror_mode": {
    "name": "ipython",
    "version": 2
   },
   "file_extension": ".py",
   "mimetype": "text/x-python",
   "name": "python",
   "nbconvert_exporter": "python",
   "pygments_lexer": "ipython2",
   "version": "2.7.13"
  }
 },
 "nbformat": 4,
 "nbformat_minor": 2
}
