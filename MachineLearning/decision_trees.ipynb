{
 "cells": [
  {
   "cell_type": "markdown",
   "metadata": {},
   "source": [
    "#Decision Trees"
   ]
  },
  {
   "cell_type": "markdown",
   "metadata": {},
   "source": [
    "##Splitting criteria\n",
    "\n",
    "###Gini Impurity\n",
    "- minimizes Brier score \n",
    "\n",
    "    **Brier Score:** How well calibrated is the classifier? \n",
    "    \\begin{equation*}\n",
    "    BS = \\frac{1}{N} \\sum_N^{t=1}(f_t-o_t)^2\n",
    "    \\end{equation*}\n",
    "    \n",
    "###Information Gain\n",
    "- minimizes log loss\n",
    "\n",
    "    **Log Loss: ** \n",
    "    \\begin{equation*}\n",
    "    logloss = -\\frac{1}{N} \\sum_{i=1}^N \\sum_{j=1}^M y_{ij} log(p_{ij})\n",
    "    \\end{equation*}"
   ]
  },
  {
   "cell_type": "markdown",
   "metadata": {},
   "source": [
    "<img src='../images/rf_complexity_error.png' width='500' height='300'>"
   ]
  },
  {
   "cell_type": "markdown",
   "metadata": {
    "collapsed": false
   },
   "source": [
    "# Bagging\n",
    "\n",
    "Bagging or bootstrap aggregation averages a given procedure over many samples, to reduce its variance — a poor man’s Bayes\n",
    "\n",
    "To bag C, we draw bootstrap samples S∗1, . . . S∗B each of size N\n",
    "with replacement from the training data. Then $$ C ˆ{bag(x)} = Majority Vote {C(S∗b,x)}Bb=1 $$\n",
    "Bagging can dramatically reduce the variance of unstable procedures (like trees), leading to improved prediction. However any simple structure in C (e.g a tree) is lost."
   ]
  },
  {
   "cell_type": "markdown",
   "metadata": {},
   "source": [
    "• Bagging (Breiman, 1996): Fit many large trees to bootstrap-resampled versions of the training data, and classify by majority vote.\n",
    "\n",
    "• Boosting (Freund & Shapire, 1996): Fit many large or small trees to reweighted versions of the training data. Classify by weighted majority vote.\n",
    "\n",
    "• Random Forests (Breiman 1999): Fancier version of bagging.\n",
    "\n",
    "http://jessica2.msri.org/attachments/10778/10778-boost.pdf"
   ]
  },
  {
   "cell_type": "code",
   "execution_count": null,
   "metadata": {
    "collapsed": true
   },
   "outputs": [],
   "source": []
  }
 ],
 "metadata": {
  "kernelspec": {
   "display_name": "Python 2",
   "language": "python",
   "name": "python2"
  },
  "language_info": {
   "codemirror_mode": {
    "name": "ipython",
    "version": 2
   },
   "file_extension": ".py",
   "mimetype": "text/x-python",
   "name": "python",
   "nbconvert_exporter": "python",
   "pygments_lexer": "ipython2",
   "version": "2.7.11"
  }
 },
 "nbformat": 4,
 "nbformat_minor": 0
}
