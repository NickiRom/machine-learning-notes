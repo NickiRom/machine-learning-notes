{
 "cells": [
  {
   "cell_type": "code",
   "execution_count": 1,
   "metadata": {
    "collapsed": true
   },
   "outputs": [],
   "source": [
    "import numpy as np"
   ]
  },
  {
   "cell_type": "markdown",
   "metadata": {},
   "source": [
    "## Definitions\n",
    "**Rank**: the number of dimensions in an array/matrix/tensor\n",
    "**Shape**: the number of items in each dimension"
   ]
  },
  {
   "cell_type": "markdown",
   "metadata": {},
   "source": [
    "## Arrays"
   ]
  },
  {
   "cell_type": "code",
   "execution_count": 76,
   "metadata": {
    "collapsed": false
   },
   "outputs": [
    {
     "name": "stdout",
     "output_type": "stream",
     "text": [
      "an array: \n",
      "[[1 2 3]\n",
      " [4 5 6]]\n",
      "\n",
      "np.zeros: \n",
      "[[ 0.  0.]\n",
      " [ 0.  0.]]\n",
      "\n",
      "np.empty_like: \n",
      "[0 0 0]\n",
      "\n",
      "np.ones: \n",
      "[[ 1.  1.]\n",
      " [ 1.  1.]\n",
      " [ 1.  1.]]\n",
      "\n",
      "np.full: \n",
      "[[7 7 7]\n",
      " [7 7 7]]\n",
      "\n",
      "np.eye: \n",
      "[[ 1.  0.]\n",
      " [ 0.  1.]]\n",
      "\n",
      "np.random: \n",
      "[[ 0.52204181  0.63009598  0.9737873   0.55359553]\n",
      " [ 0.24787432  0.52469549  0.48031071  0.2089254 ]]\n",
      "\n",
      "np.tile: \n",
      "('v = ', array([1, 0, 1]))\n",
      "vv = \n",
      "[[1 0 1]\n",
      " [1 0 1]\n",
      " [1 0 1]\n",
      " [1 0 1]]\n"
     ]
    }
   ],
   "source": [
    "# create an array\n",
    "print(\"an array: \")\n",
    "print(np.array([[1,2,3],[4,5,6]]))\n",
    "\n",
    "print(\"\\nnp.zeros: \")\n",
    "print(np.zeros((2,2)))\n",
    "\n",
    "print(\"\\nnp.empty_like: \")\n",
    "print(np.empty_like(np.array([1,2,3])))\n",
    "\n",
    "print(\"\\nnp.ones: \")\n",
    "print(np.ones((3,2)))\n",
    "\n",
    "print(\"\\nnp.full: \")\n",
    "print(np.full((2,3),7))\n",
    "\n",
    "print(\"\\nnp.eye: \")\n",
    "print(np.eye(2))\n",
    "\n",
    "print(\"\\nnp.random: \")\n",
    "print(np.random.random((2,4)))\n",
    "\n",
    "print(\"\\nnp.tile: \")\n",
    "v = np.array([1, 0, 1])\n",
    "print(\"v = \", v)\n",
    "vv = np.tile(v, (4,1))\n",
    "print(\"vv = \")\n",
    "print(vv)"
   ]
  },
  {
   "cell_type": "markdown",
   "metadata": {},
   "source": [
    "## Slicing and indexing\n",
    "\n",
    "- a[1:3] gives item 1 and 2 (not 3)\n",
    "\n",
    "#### When slicing, numpy returns a lower-rank object\n",
    "- if you index a column id and slice that column, you get a row array back\n",
    "- same if you index and slice a row\n",
    "- the shape of these will be identical"
   ]
  },
  {
   "cell_type": "code",
   "execution_count": 24,
   "metadata": {
    "collapsed": false
   },
   "outputs": [
    {
     "name": "stdout",
     "output_type": "stream",
     "text": [
      "slice a row: \n",
      "[5 6 7 8]\n",
      "\n",
      "slice a column: \n",
      "[ 3  7 11]\n"
     ]
    }
   ],
   "source": [
    "# [[ 1  2  3  4]\n",
    "#  [ 5  6  7  8]\n",
    "#  [ 9 10 11 12]]\n",
    "a = np.array([[1,2,3,4], [5,6,7,8], [9,10,11,12]])\n",
    "\n",
    "print(\"slice a row: \")\n",
    "print(a[1,:])\n",
    "\n",
    "print(\"\\nslice a column: \")\n",
    "print(a[:,2])"
   ]
  },
  {
   "cell_type": "markdown",
   "metadata": {},
   "source": [
    "#### When indexing, you can arbitrarily combine the data in different ways\n",
    "- the following selects the 0th, 1st, and 2nd row and the 0th, 1st and 0th item from these, respectively:"
   ]
  },
  {
   "cell_type": "code",
   "execution_count": 49,
   "metadata": {
    "collapsed": false
   },
   "outputs": [
    {
     "name": "stdout",
     "output_type": "stream",
     "text": [
      "[1 4 5]\n",
      "\n",
      "is equivalent to indexing individual elements: \n",
      "[1 4 5]\n",
      "\n",
      "and you can have arbitrary shapes: \n",
      "[[1]\n",
      " [4]\n",
      " [5]]\n"
     ]
    }
   ],
   "source": [
    "a = np.array([[1,2], [3, 4], [5, 6]])\n",
    "print(a[[ 0, 1, 2], \n",
    "        [0, 1, 0]])\n",
    "\n",
    "print(\"\\nis equivalent to indexing individual elements: \")\n",
    "print(np.array([a[0, 0], a[1, 1], a[2, 0]]))\n",
    "\n",
    "print(\"\\nand you can have arbitrary shapes: \")\n",
    "print(a[[ [0],[1],[2] ],\n",
    "        [ [0],[1],[0] ]])"
   ]
  },
  {
   "cell_type": "markdown",
   "metadata": {},
   "source": [
    "### Mutate one element"
   ]
  },
  {
   "cell_type": "code",
   "execution_count": 55,
   "metadata": {
    "collapsed": false
   },
   "outputs": [
    {
     "name": "stdout",
     "output_type": "stream",
     "text": [
      "[[ 1  2  3]\n",
      " [ 4  5  6]\n",
      " [ 7  8  9]\n",
      " [10 11 12]]\n",
      "\n",
      "let's add 10 to the following elements: \n",
      "[ 1  6  8 10]\n",
      "\n",
      "now A is: \n",
      "[[11  2  3]\n",
      " [ 4  5 16]\n",
      " [ 7 18  9]\n",
      " [20 11 12]]\n"
     ]
    }
   ],
   "source": [
    "a = np.array([[1,2,3], [4,5,6], [7,8,9], [10, 11, 12]])\n",
    "print(a)\n",
    "\n",
    "# Create an array of indices\n",
    "b = np.array([0, 2, 1, 0])\n",
    "\n",
    "# Select one element from each row of a using the indices in b\n",
    "print(\"\\nlet's add 10 to the following elements: \")\n",
    "print(a[np.arange(4), b])  # Prints \"[ 1  6  7 11]\"\n",
    "\n",
    "# Mutate one element from each row of a using the indices in b\n",
    "a[np.arange(4), b] += 10\n",
    "print(\"\\nnow A is: \")\n",
    "print(a)"
   ]
  },
  {
   "cell_type": "markdown",
   "metadata": {},
   "source": [
    "### Boolean array indexing\n",
    "- can compare the entire numpy object to generate a same-shape object of Boolean values"
   ]
  },
  {
   "cell_type": "code",
   "execution_count": 56,
   "metadata": {
    "collapsed": false
   },
   "outputs": [
    {
     "name": "stdout",
     "output_type": "stream",
     "text": [
      "[[1 2]\n",
      " [3 4]\n",
      " [5 6]]\n",
      "\n",
      "\n",
      "[[False False]\n",
      " [ True  True]\n",
      " [ True  True]]\n"
     ]
    }
   ],
   "source": [
    "a = np.array([[1,2], [3, 4], [5, 6]])\n",
    "\n",
    "bool_idx = (a > 2)\n",
    "print(a)\n",
    "print(\"\\n\")\n",
    "print(bool_idx)"
   ]
  },
  {
   "cell_type": "markdown",
   "metadata": {},
   "source": [
    "## Element-wise operations\n",
    "\n",
    "#### Add: \n",
    "- can use x+y or np.add(x,y)\n",
    "\n",
    "#### Subtract:\n",
    "- can use x-y or np.subtract(x,y)\n",
    "\n",
    "#### Multiply:\n",
    "- can use x*y or np.multiply(x,y)\n",
    "\n",
    "#### Divide:\n",
    "- can use x/y or np.divide(x,y)\n",
    "\n",
    "#### Square root:\n",
    "- can use np.sqrt(x)\n",
    "\n",
    "#### Matrix multiplication (dot product)\n",
    "- For two arrays: can use a.dot(b) or np.dot(a,b)\n",
    "- For matrix x and array v: can use x.dot(v) or np.dot(x,v)\n"
   ]
  },
  {
   "cell_type": "code",
   "execution_count": 65,
   "metadata": {
    "collapsed": false
   },
   "outputs": [
    {
     "data": {
      "text/plain": [
       "array([ 29,  67, 105])"
      ]
     },
     "execution_count": 65,
     "metadata": {},
     "output_type": "execute_result"
    }
   ],
   "source": [
    "x = np.array([[1,2],[3,4],[5,6]])\n",
    "\n",
    "v = np.array([9,10])\n",
    "x.dot(v)"
   ]
  },
  {
   "cell_type": "markdown",
   "metadata": {},
   "source": [
    "### Sum over all elements in row/column/matrix:\n",
    "\n",
    "#### row\n",
    "- np.sum(x, axis = 0) \n",
    "\n",
    "#### column\n",
    "- np.sum(x, axis=1)\n",
    "\n",
    "#### matrix\n",
    "- np.sum(x)"
   ]
  },
  {
   "cell_type": "markdown",
   "metadata": {},
   "source": [
    "### Broadcasting\n",
    "\n",
    "#### If the arrays do not have the same rank, prepend lower ranked array with 1s\n",
    "- x = np.array([[[1,2,3], [4,5,6], [7,8,9], [10, 11, 12]]])\n",
    "- x.shape is (1,4,3)\n",
    "- y = np.array([10,11,12])\n",
    "- y.shape is (1,3) but becomes (1,1,3) for broadcasting\n",
    "\n",
    "#### The two arrays are compatible in a dimension if the sizes match OR one of the sizes is 1\n",
    "- x.shape is (1,4,3)\n",
    "- y.shape for broadcasting is (1,1,3)\n",
    "- compatible in all dimensions\n",
    "\n",
    "#### Arrays can be broadcast if they are compatible in all dimensions\n",
    "\n",
    "#### After broadcasting, each array behaves as if it had shape equal to the elementwise maximum of shapes of the two input arrays\n",
    "- x + y shape is (1,4,3)\n",
    "\n",
    "#### Anywhere one array had size > 1 and the other had size = 1, smaller array was copied along larger array for that dimension"
   ]
  },
  {
   "cell_type": "code",
   "execution_count": 99,
   "metadata": {
    "collapsed": false
   },
   "outputs": [
    {
     "name": "stdout",
     "output_type": "stream",
     "text": [
      "x before adding v to each row: \n",
      "[[ 1  2  3]\n",
      " [ 4  5  6]\n",
      " [ 7  8  9]\n",
      " [10 11 12]]\n",
      "(4, 3)\n",
      "\n",
      "after adding [1,0,1] to each row: \n",
      "[[ 2  2  4]\n",
      " [ 5  5  7]\n",
      " [ 8  8 10]\n",
      " [11 11 13]]\n"
     ]
    }
   ],
   "source": [
    "x = np.array([[1,2,3], [4,5,6], [7,8,9], [10, 11, 12]])\n",
    "v = np.array([1, 0, 1])\n",
    "vv = np.tile(v, (4,1)) # Create an empty matrix with the same shape as x\n",
    "\n",
    "print(\"x before adding v to each row: \")\n",
    "print(x)\n",
    "print(x.shape)\n",
    "    \n",
    "print(\"\\nafter adding [1,0,1] to each row: \")\n",
    "print(x+vv)"
   ]
  },
  {
   "cell_type": "code",
   "execution_count": 89,
   "metadata": {
    "collapsed": false
   },
   "outputs": [
    {
     "name": "stdout",
     "output_type": "stream",
     "text": [
      "[[1]\n",
      " [2]\n",
      " [3]\n",
      " [4]]\n"
     ]
    }
   ],
   "source": [
    "x = np.array([1,2,3,4])\n",
    "print(x[:,np.newaxis])"
   ]
  },
  {
   "cell_type": "code",
   "execution_count": 86,
   "metadata": {
    "collapsed": false
   },
   "outputs": [
    {
     "data": {
      "text/plain": [
       "array([[2, 3, 4],\n",
       "       [3, 4, 5],\n",
       "       [4, 5, 6],\n",
       "       [5, 6, 7]])"
      ]
     },
     "execution_count": 86,
     "metadata": {},
     "output_type": "execute_result"
    }
   ],
   "source": [
    "x[:,np.newaxis]+np.array([1,2,3])"
   ]
  },
  {
   "cell_type": "code",
   "execution_count": 91,
   "metadata": {
    "collapsed": false
   },
   "outputs": [
    {
     "name": "stdout",
     "output_type": "stream",
     "text": [
      "[[[ 1  2  3]\n",
      "  [ 4  5  6]\n",
      "  [ 7  8  9]\n",
      "  [10 11 12]]]\n",
      "[10 11 12]\n",
      "[[[11 13 15]\n",
      "  [14 16 18]\n",
      "  [17 19 21]\n",
      "  [20 22 24]]]\n"
     ]
    }
   ],
   "source": [
    "x = np.array([[[1,2,3], [4,5,6], [7,8,9], [10, 11, 12]]])\n",
    "y = np.array([10,11,12])\n",
    "print(x)\n",
    "print(y)\n",
    "print(x+y)"
   ]
  }
 ],
 "metadata": {
  "kernelspec": {
   "display_name": "Python [conda env:tensorflow]",
   "language": "python",
   "name": "conda-env-tensorflow-py"
  },
  "language_info": {
   "codemirror_mode": {
    "name": "ipython",
    "version": 2
   },
   "file_extension": ".py",
   "mimetype": "text/x-python",
   "name": "python",
   "nbconvert_exporter": "python",
   "pygments_lexer": "ipython2",
   "version": "2.7.13"
  }
 },
 "nbformat": 4,
 "nbformat_minor": 2
}
