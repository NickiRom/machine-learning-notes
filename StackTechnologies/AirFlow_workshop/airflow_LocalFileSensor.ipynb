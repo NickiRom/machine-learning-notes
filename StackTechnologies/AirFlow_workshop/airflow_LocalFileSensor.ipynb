{
 "cells": [
  {
   "cell_type": "code",
   "execution_count": 1,
   "metadata": {
    "collapsed": false
   },
   "outputs": [
    {
     "name": "stdout",
     "output_type": "stream",
     "text": [
      "[2017-04-26 14:25:15,457] {__init__.py:57} INFO - Using executor SequentialExecutor\n"
     ]
    }
   ],
   "source": [
    "import logging\n",
    "import os\n",
    "from airflow.operators.sensors import TimeDeltaSensor\n",
    "from airflow.operators.sensors import BaseSensorOperator\n",
    "from airflow.utils.decorators import apply_defaults"
   ]
  },
  {
   "cell_type": "code",
   "execution_count": 13,
   "metadata": {
    "collapsed": false
   },
   "outputs": [
    {
     "ename": "SyntaxError",
     "evalue": "invalid syntax (<ipython-input-13-f4834f8341d2>, line 6)",
     "output_type": "error",
     "traceback": [
      "\u001b[0;36m  File \u001b[0;32m\"<ipython-input-13-f4834f8341d2>\"\u001b[0;36m, line \u001b[0;32m6\u001b[0m\n\u001b[0;31m    @apply default\u001b[0m\n\u001b[0m                 ^\u001b[0m\n\u001b[0;31mSyntaxError\u001b[0m\u001b[0;31m:\u001b[0m invalid syntax\n"
     ]
    }
   ],
   "source": [
    "class LocalFileSensor(BaseSensorOperator):\n",
    "    \"\"\"\n",
    "    waits for a file to appear in the local filesystem\n",
    "    \"\"\"\n",
    "    #template_fields=('filepath', )\n",
    "    @apply default\n",
    "    def __init__(\n",
    "            self,\n",
    "            filepath,\n",
    "            filesystem_conn_id='localfs_default',\n",
    "            *args, **kwargs):\n",
    "        super(LocalFileSensor, self).__init__(*args, **kwargs)\n",
    "        self.filepath = filepath\n",
    "        self.filesystem_conn_id = filesystem_conn_id\n",
    "        \n",
    "    # always add a poke method\n",
    "    def poke(self, context):\n",
    "        return os.path.isfile(self.filepath)\n",
    "        \n",
    "    def kill(self):\n",
    "        if hasattr(self, 'sp');\n",
    "        if self.sp.poll() is None:\n",
    "            "
   ]
  },
  {
   "cell_type": "code",
   "execution_count": 10,
   "metadata": {
    "collapsed": true
   },
   "outputs": [],
   "source": [
    "fs = LocalFileSensor(task_id = 'fs',\n",
    "                     filepath='~/Downloads/Krishna-DE-Code.pdf', \n",
    "                     filesystem_conn_id='hive_default')"
   ]
  },
  {
   "cell_type": "code",
   "execution_count": 11,
   "metadata": {
    "collapsed": false
   },
   "outputs": [
    {
     "data": {
      "text/plain": [
       "False"
      ]
     },
     "execution_count": 11,
     "metadata": {},
     "output_type": "execute_result"
    }
   ],
   "source": [
    "fs.poke(context = None)"
   ]
  },
  {
   "cell_type": "code",
   "execution_count": null,
   "metadata": {
    "collapsed": true
   },
   "outputs": [],
   "source": []
  }
 ],
 "metadata": {
  "kernelspec": {
   "display_name": "Python [conda env:venv]",
   "language": "python",
   "name": "conda-env-venv-py"
  },
  "language_info": {
   "codemirror_mode": {
    "name": "ipython",
    "version": 2
   },
   "file_extension": ".py",
   "mimetype": "text/x-python",
   "name": "python",
   "nbconvert_exporter": "python",
   "pygments_lexer": "ipython2",
   "version": "2.7.12"
  }
 },
 "nbformat": 4,
 "nbformat_minor": 2
}
