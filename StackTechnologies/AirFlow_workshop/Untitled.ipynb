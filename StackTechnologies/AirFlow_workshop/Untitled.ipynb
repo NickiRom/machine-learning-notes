{
 "cells": [
  {
   "cell_type": "code",
   "execution_count": 15,
   "metadata": {
    "collapsed": false
   },
   "outputs": [],
   "source": [
    "back = 'morethanjustaprettycape'\n",
    "\n",
    "letters = sorted(back*2)"
   ]
  },
  {
   "cell_type": "code",
   "execution_count": 16,
   "metadata": {
    "collapsed": false
   },
   "outputs": [
    {
     "name": "stdout",
     "output_type": "stream",
     "text": [
      "a 6\n",
      "c 2\n",
      "e 6\n",
      "h 2\n",
      "j 2\n",
      "m 2\n",
      "n 2\n",
      "o 2\n",
      "p 4\n",
      "r 4\n",
      "s 2\n",
      "t 8\n",
      "u 2\n",
      "y 2\n"
     ]
    }
   ],
   "source": [
    "for l in sorted(set(letters)):\n",
    "    print l, letters.count(l)"
   ]
  },
  {
   "cell_type": "code",
   "execution_count": null,
   "metadata": {
    "collapsed": true
   },
   "outputs": [],
   "source": []
  }
 ],
 "metadata": {
  "kernelspec": {
   "display_name": "Python [conda root]",
   "language": "python",
   "name": "conda-root-py"
  },
  "language_info": {
   "codemirror_mode": {
    "name": "ipython",
    "version": 2
   },
   "file_extension": ".py",
   "mimetype": "text/x-python",
   "name": "python",
   "nbconvert_exporter": "python",
   "pygments_lexer": "ipython2",
   "version": "2.7.13"
  }
 },
 "nbformat": 4,
 "nbformat_minor": 2
}
