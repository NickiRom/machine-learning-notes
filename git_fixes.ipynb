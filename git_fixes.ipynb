{
 "cells": [
  {
   "cell_type": "markdown",
   "metadata": {},
   "source": [
    "#Git Intro\n",
    "\n",
    "This is a collection of notes and quick fixes that I've found useful in git.  A more complete tutorial can be found at [https://guides.github.com/activities/hello-world/](https://guides.github.com/activities/hello-world/)'"
   ]
  },
  {
   "cell_type": "markdown",
   "metadata": {},
   "source": [
    "#Initializing a repository\n",
    "\n",
    "        git init\n",
    "        \n",
    "- if you want something on a server and local machine, use clone\n",
    "- fork generates a clone under your username.  Useful when starting from an existing code base to develop your own project, or to contribute to a project\n"
   ]
  },
  {
   "cell_type": "markdown",
   "metadata": {},
   "source": [
    "#Repository types\n",
    "- origin: your Remote branch (can be renamed, but this is default)\n",
    "- master: your Local branch"
   ]
  },
  {
   "cell_type": "markdown",
   "metadata": {},
   "source": [
    "#Pushing changes\n",
    "- if someone possibly changed the remote repository, first add any changes to your local machine\n",
    "\n",
    "        git pull --rebase origin master\n",
    "  rebase: this way, if you both worked on same piece of code, it creates a merge conflict\n",
    "\n",
    "        git remote update origin\n",
    "    \n",
    "        git push origin master"
   ]
  },
  {
   "cell_type": "markdown",
   "metadata": {},
   "source": [
    "#Viewing history\n",
    "Let's say you have a branch from 3 months ago.  How do you view the difference between your master and this old branch?'\n",
    "    \n",
    "    git log\n",
    "    (get hash from 3 months ago)\n",
    "    git checkout hash_id\n",
    "    git checkout -b 3monthsbranch\n",
    "    git diff master .. 3monthsbranch"
   ]
  },
  {
   "cell_type": "markdown",
   "metadata": {},
   "source": [
    "#Quick fixes"
   ]
  },
  {
   "cell_type": "markdown",
   "metadata": {},
   "source": [
    "###Issue: ###\n",
    "You have made changes and you accidentally delete a file. How do you get it back while preserving changes?\n",
    "\n",
    "###Solution: ### \n",
    "1. Make a new branch:\n",
    "        git checkout -b Branchname\n",
    "2. Delete branch\n",
    "        git branch -D branch_id\n",
    "3. When there's a conflict\n",
    "        git blame filename\n",
    "4. Resolve conflicts. Remove every git notation as well as offending code\n",
    "\n",
    "5. Merge\n",
    "    git push origin branch-a\n",
    "    git merge branch-a"
   ]
  },
  {
   "cell_type": "markdown",
   "metadata": {},
   "source": [
    "###Issue: ###\n",
    "You removed a file but not from git (rm hated_file)\n",
    "\n",
    "###Solution: ###\n",
    "    git checkout -- hated_file\n",
    "    git rm hated_file\n",
    "\n",
    "###Issue: ###\n",
    "You removed a file and made changes to other files that you don't want to lose\n",
    "\n",
    "###Solution: ###\n",
    "    rm wanted_file  (oh no!)\n",
    "    \n",
    "    git checkout -- wanted_file\n",
    "    git add all_files\n",
    "    git push origin master\n"
   ]
  }
 ],
 "metadata": {
  "kernelspec": {
   "display_name": "Python 2",
   "language": "python",
   "name": "python2"
  },
  "language_info": {
   "codemirror_mode": {
    "name": "ipython",
    "version": 2
   },
   "file_extension": ".py",
   "mimetype": "text/x-python",
   "name": "python",
   "nbconvert_exporter": "python",
   "pygments_lexer": "ipython2",
   "version": "2.7.10"
  }
 },
 "nbformat": 4,
 "nbformat_minor": 0
}
