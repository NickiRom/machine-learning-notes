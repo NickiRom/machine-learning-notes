{
 "cells": [
  {
   "cell_type": "markdown",
   "metadata": {},
   "source": [
    "# Introduction\n",
    "- Calculating exact cardinality consumes memory $\\alpha$ cardinality\n",
    "- Based on the Flajolet-Martin Algorithm\n",
    "- Approximates # distinct elements in a stream in a single pass\n",
    "- Space consumption is logarithmic with max # distinct elements"
   ]
  },
  {
   "cell_type": "markdown",
   "metadata": {},
   "source": [
    "# Flajolet-Martin algorithm\n",
    "### Setup\n",
    "1. Map input elements $x$ to a range $[0; 2^L-1]$ for hash length L\n",
    "2. The output is $$y = \\sum_{k\\ge0}bit(y,k)2^k$$ where $k^{th}$ bit is represented by bit(y,k)\n",
    "\n",
    "3. Define a function $$\\rho(y) = \\min_{k\\ge0} bit(y,k) \\ne 0$$ which gives the location of the least significant 1-bit in $y$.  Note that the position is 0-indexed, and $\\rho(0) = L$\n",
    "\n",
    "4. The probability of $y$ consisting of:\n",
    "$$ P\\left(y |bit(y,k) = \\begin{cases}1 & k = L-1 \\\\ 0 & k \\le L-1 \\end{cases} \\right) = 2^{-(k+1)}$$ \n",
    "\n",
    "### Algorithm\n",
    "1. Initialize a bit-vector of length L with all 0's\n",
    "2. Iterate through elements x of multiset M\n",
    "3. For each x, set bit-vector[index] = 1 for $index = \\rho(hash(x))$\n",
    "4. Let R be the index of the least significant bit of the bit-vector that remains 0 \n",
    "5. Calculate the # distinct elements as $$\\frac{2^R}{0.77351}$$\n",
    "\n",
    "### Inaccuracies\n",
    "- Since algorithm produces variable results, take a set of n measurements and break into r groups\n",
    "- For each measurement in group $r_i$, take the median of the measurements\n",
    "- Combine the r medians by taking the mean"
   ]
  },
  {
   "cell_type": "code",
   "execution_count": null,
   "metadata": {
    "collapsed": true
   },
   "outputs": [],
   "source": []
  }
 ],
 "metadata": {
  "kernelspec": {
   "display_name": "Python 2",
   "language": "python",
   "name": "python2"
  },
  "language_info": {
   "codemirror_mode": {
    "name": "ipython",
    "version": 2
   },
   "file_extension": ".py",
   "mimetype": "text/x-python",
   "name": "python",
   "nbconvert_exporter": "python",
   "pygments_lexer": "ipython2",
   "version": "2.7.10"
  }
 },
 "nbformat": 4,
 "nbformat_minor": 0
}
