{
 "cells": [
  {
   "cell_type": "markdown",
   "metadata": {},
   "source": [
    "# There are two types of Optimization algorithms\n",
    "\n",
    "**First order**, which compute the Jacobian (matrix of derivatives of the parameter vector), thereby calculating the change in loss when modulating each element and holding all other elements constant.  This is evaluated at a specific point, namely the current parameter values\n",
    "- stochastic gradient descent\n",
    "\n",
    "**Second order**, which compute the Hessian (matrix of derivatives of the Jacobian), thereby taking into account the interdependencies between parameter elements\n",
    "- Limited-memory BFGS (L-BFGS)\n",
    "- Conjugate gradient\n",
    "- Hessian-free\n",
    "\n",
    "**Other algorithms**:\n",
    "- genetic algorithms\n",
    "- particle swarm optimization\n",
    "- ant colony optimization\n",
    "- simulated annealing"
   ]
  },
  {
   "cell_type": "markdown",
   "metadata": {},
   "source": [
    "## Stochastic gradient descent\n",
    "#### Hyperparameters: \n",
    "- adjusting learning rate using Adagrad or the Hessian, for instance\n",
    "#### Pros:\n",
    "#### Cons:\n",
    "\n",
    "\n",
    "## L-BFGS\n",
    "- stands for Limited-memory Broyden-Fletcher-Goldfarb-Shanno\n",
    "- limits how much gradient is stored in memory\n",
    "- because it does not compute the full Hessian\n",
    "- approximates the inverse Hessian to search for weight adjustments\n",
    "\n",
    "## Conjugate gradient\n",
    "- minimize the conjugate L2 norm\n",
    "- similar to gradient descent in that it performs a line search\n",
    "\n",
    "## Hessian-free\n",
    "- related to Newton's method but better minimization of the quadratic function\n",
    "- uses iterative method called conjugate gradient to minimize\n",
    "\n"
   ]
  },
  {
   "cell_type": "code",
   "execution_count": null,
   "metadata": {
    "collapsed": true
   },
   "outputs": [],
   "source": []
  }
 ],
 "metadata": {
  "kernelspec": {
   "display_name": "py36",
   "language": "python",
   "name": "py36"
  },
  "language_info": {
   "codemirror_mode": {
    "name": "ipython",
    "version": 2
   },
   "file_extension": ".py",
   "mimetype": "text/x-python",
   "name": "python",
   "nbconvert_exporter": "python",
   "pygments_lexer": "ipython2",
   "version": "2.7.13"
  }
 },
 "nbformat": 4,
 "nbformat_minor": 2
}
