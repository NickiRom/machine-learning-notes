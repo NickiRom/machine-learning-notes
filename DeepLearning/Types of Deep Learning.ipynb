{
 "cells": [
  {
   "cell_type": "markdown",
   "metadata": {},
   "source": [
    "# General DL\n",
    "- fully connected networks (FCN)\n",
    "\n",
    "# Sequence models (1D)\n",
    "- RNN\n",
    "- LSTM\n",
    "- GRU\n",
    "- attention models\n",
    "\n",
    "# Image models (2D/3D)\n",
    "- CNN\n",
    "\n",
    "# Other\n",
    "- unsupervised learning\n",
    "- reinforcement learning\n",
    "- ICA\n",
    "- slow fisher analysis\n",
    "- mass coding"
   ]
  },
  {
   "cell_type": "markdown",
   "metadata": {},
   "source": [
    "# Things to consider\n",
    "\n",
    "### Do you have more than enough data?\n",
    "- if you have enough data, an end-to-end DL architecture will remove human-interpretable constraints from the problem, thus making your question more effectively answerable\n",
    "- if you won't be able to learn all modalities of your question thoroughly, an end-to-end architecture will make it difficult to prioritize and address failure modes\n",
    "\n",
    "### Bias-variance tradeoff in DL\n",
    "#### Human-level error\n",
    "#### Training set error\n",
    "#### Validation set error\n",
    "- if training set error and validation error >> human-level error, you can learn more (Ng calls it \"bias\", it's generally underfitting)\n",
    "- if validation error >> training error and human-level error, try regularization (you're not generalizing, Ng calls this \"variance\", it's generally overfitting)\n",
    "- if validation error >> training error >> human-level error, you have both issues and need more data and hyperparameter tuning!\n",
    "\n",
    "### Determining next steps in modeling\n",
    "#### Is training error high?\n",
    "- bigger model\n",
    "- train longer\n",
    "- new model architecture\n",
    "\n",
    "#### Is validation error high?\n",
    "- more data\n",
    "- regularization\n",
    "- new model architecture\n"
   ]
  },
  {
   "cell_type": "code",
   "execution_count": null,
   "metadata": {
    "collapsed": true
   },
   "outputs": [],
   "source": []
  }
 ],
 "metadata": {
  "kernelspec": {
   "display_name": "py36",
   "language": "python",
   "name": "py36"
  },
  "language_info": {
   "codemirror_mode": {
    "name": "ipython",
    "version": 2
   },
   "file_extension": ".py",
   "mimetype": "text/x-python",
   "name": "python",
   "nbconvert_exporter": "python",
   "pygments_lexer": "ipython2",
   "version": "2.7.13"
  }
 },
 "nbformat": 4,
 "nbformat_minor": 2
}
