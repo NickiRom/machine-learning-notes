{
 "cells": [
  {
   "cell_type": "code",
   "execution_count": 6,
   "metadata": {
    "collapsed": true
   },
   "outputs": [],
   "source": [
    "import tensorflow as tf\n",
    "import numpy as np"
   ]
  },
  {
   "cell_type": "code",
   "execution_count": 23,
   "metadata": {
    "collapsed": false
   },
   "outputs": [
    {
     "name": "stdout",
     "output_type": "stream",
     "text": [
      "[ 14.6774992   14.56356524  14.585606   ...,  16.27042937  14.91746075\n",
      "  14.68378397]\n"
     ]
    }
   ],
   "source": [
    "with tf.Session() as session:\n",
    "    print(session.run(np.add(np.multiply(5,x**2), np.multiply(-3,x)))+15)   "
   ]
  },
  {
   "cell_type": "code",
   "execution_count": 25,
   "metadata": {
    "collapsed": false
   },
   "outputs": [
    {
     "name": "stdout",
     "output_type": "stream",
     "text": [
      "Tensor(\"y_2/read:0\", shape=(10000,), dtype=float64)\n"
     ]
    }
   ],
   "source": [
    "x = tf.constant(np.random.rand(10000,), name='x')\n",
    "y = tf.Variable(np.add(np.multiply(5,x**2), np.multiply(-3,x))+15, name='y')\n",
    "print(y)"
   ]
  },
  {
   "cell_type": "code",
   "execution_count": 26,
   "metadata": {
    "collapsed": false
   },
   "outputs": [
    {
     "name": "stdout",
     "output_type": "stream",
     "text": [
      "[ 14.96365332  14.55141836  14.93718291 ...,  14.5516443   15.1288383\n",
      "  14.55098969]\n"
     ]
    }
   ],
   "source": [
    "model = tf.global_variables_initializer()\n",
    "with tf.Session() as session:\n",
    "    session.run(model)\n",
    "    print(session.run(y))"
   ]
  },
  {
   "cell_type": "code",
   "execution_count": null,
   "metadata": {
    "collapsed": true
   },
   "outputs": [],
   "source": []
  }
 ],
 "metadata": {
  "kernelspec": {
   "display_name": "Python [conda env:tensorflow]",
   "language": "python",
   "name": "conda-env-tensorflow-py"
  },
  "language_info": {
   "codemirror_mode": {
    "name": "ipython",
    "version": 2
   },
   "file_extension": ".py",
   "mimetype": "text/x-python",
   "name": "python",
   "nbconvert_exporter": "python",
   "pygments_lexer": "ipython2",
   "version": "2.7.13"
  }
 },
 "nbformat": 4,
 "nbformat_minor": 2
}
