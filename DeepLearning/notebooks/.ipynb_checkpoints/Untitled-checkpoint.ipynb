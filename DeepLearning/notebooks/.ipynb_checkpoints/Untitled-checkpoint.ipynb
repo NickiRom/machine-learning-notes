{
 "cells": [
  {
   "cell_type": "markdown",
   "metadata": {
    "collapsed": true
   },
   "source": [
    "### Ingest training set\n",
    "- training examples\n",
    "- validation examples\n",
    "- input parameters\n",
    "    - size\n",
    "    "
   ]
  },
  {
   "cell_type": "markdown",
   "metadata": {},
   "source": [
    "### Set up cluster\n",
    "- CPU pre-processing, GPU training\n",
    "- number of workers\n",
    "- threading\n",
    "- number of GPUs\n"
   ]
  },
  {
   "cell_type": "markdown",
   "metadata": {},
   "source": [
    "### Augment training set\n",
    "https://keras.io/preprocessing/image/\n",
    "- crop\n",
    "- featurewise_center (pixel mean)\n",
    "- samplewise_center (sample mean)\n",
    "- flip/flop/rotate\n",
    "- transpose\n",
    "- scale\n",
    "- methods\n",
    "    - flow_from_directory\n"
   ]
  },
  {
   "cell_type": "markdown",
   "metadata": {},
   "source": [
    "### Pre-process"
   ]
  },
  {
   "cell_type": "markdown",
   "metadata": {},
   "source": [
    "### Set up training\n",
    "\n",
    "- checkpoints to save models\n",
    "- tensorboard\n",
    "- kera ImageDataGenerator\n",
    "\n",
    "- hyperparameters\n",
    "    - batch size\n",
    "    - number of epochs\n",
    "    - learning rate \n",
    "    - momentum\n",
    "    - optimizer\n",
    "- initialization: \n",
    "    - weights https://keras.io/initializers/\n",
    "    - bias can be Constant(value=0.1) for example\n"
   ]
  },
  {
   "cell_type": "code",
   "execution_count": null,
   "metadata": {
    "collapsed": true
   },
   "outputs": [],
   "source": []
  }
 ],
 "metadata": {
  "kernelspec": {
   "display_name": "Python [conda env:tensorflow]",
   "language": "python",
   "name": "conda-env-tensorflow-py"
  },
  "language_info": {
   "codemirror_mode": {
    "name": "ipython",
    "version": 2
   },
   "file_extension": ".py",
   "mimetype": "text/x-python",
   "name": "python",
   "nbconvert_exporter": "python",
   "pygments_lexer": "ipython2",
   "version": "2.7.13"
  }
 },
 "nbformat": 4,
 "nbformat_minor": 2
}
