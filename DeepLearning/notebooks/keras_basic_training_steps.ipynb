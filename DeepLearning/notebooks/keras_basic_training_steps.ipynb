{
 "cells": [
  {
   "cell_type": "code",
   "execution_count": 2,
   "metadata": {
    "collapsed": false
   },
   "outputs": [
    {
     "name": "stderr",
     "output_type": "stream",
     "text": [
      "/anaconda/envs/py36/lib/python3.6/site-packages/h5py/__init__.py:36: FutureWarning: Conversion of the second argument of issubdtype from `float` to `np.floating` is deprecated. In future, it will be treated as `np.float64 == np.dtype(float).type`.\n",
      "  from ._conv import register_converters as _register_converters\n",
      "Using TensorFlow backend.\n"
     ]
    }
   ],
   "source": [
    "from keras.initializers import Constant\n",
    "from keras.layers import Input, Conv2D, MaxPool2D, Dropout, Flatten\n",
    "from keras.models import Model\n",
    "from keras.optimizers import adam\n",
    "\n",
    "import numpy as np"
   ]
  },
  {
   "cell_type": "markdown",
   "metadata": {
    "collapsed": true
   },
   "source": [
    "### Ingest training set\n",
    "- training examples\n",
    "- validation examples\n",
    "- input parameters\n",
    "    - size\n",
    "    "
   ]
  },
  {
   "cell_type": "markdown",
   "metadata": {},
   "source": [
    "### Set up cluster\n",
    "- CPU pre-processing, GPU training\n",
    "- number of workers\n",
    "- threading\n",
    "- number of GPUs\n"
   ]
  },
  {
   "cell_type": "markdown",
   "metadata": {},
   "source": [
    "### Augment training set\n",
    "https://keras.io/preprocessing/image/\n",
    "- crop\n",
    "- featurewise_center (pixel mean)\n",
    "- samplewise_center (sample mean)\n",
    "- flip/flop/rotate\n",
    "- transpose\n",
    "- scale\n",
    "- methods\n",
    "    - flow_from_directory\n"
   ]
  },
  {
   "cell_type": "code",
   "execution_count": 8,
   "metadata": {
    "collapsed": false
   },
   "outputs": [],
   "source": [
    "from keras.preprocessing import image"
   ]
  },
  {
   "cell_type": "code",
   "execution_count": null,
   "metadata": {
    "collapsed": true
   },
   "outputs": [],
   "source": [
    "image.ImageDataGenerator(featurewise_center=1,\n",
    "                         samplewise_center=1,\n",
    "                         featurewise_std_normalization=1,\n",
    "                         zca_whitening=1,\n",
    "                         rotation_range=60,\n",
    "                         )"
   ]
  },
  {
   "cell_type": "markdown",
   "metadata": {},
   "source": [
    "### Pre-process"
   ]
  },
  {
   "cell_type": "markdown",
   "metadata": {},
   "source": [
    "### Set up training\n",
    "\n",
    "- checkpoints to save models\n",
    "- tensorboard\n",
    "- kera ImageDataGenerator\n",
    "\n",
    "- hyperparameters\n",
    "    - batch size\n",
    "    - number of epochs\n",
    "    - learning rate \n",
    "    - momentum\n",
    "    - optimizer\n",
    "- initialization: \n",
    "    - weights https://keras.io/initializers/\n",
    "    - bias can be Constant(value=0.1) for example\n"
   ]
  },
  {
   "cell_type": "code",
   "execution_count": 3,
   "metadata": {
    "collapsed": false
   },
   "outputs": [],
   "source": [
    "n_filters = [128, 256, 256]\n",
    "kernel_size = [3, 3, 3]\n",
    "\n",
    "X_train_shape = (224,224,3)\n",
    "\n",
    "input_layer = Input(shape=X_train_shape)\n",
    "\n",
    "hidden= [Conv2D(filters=90, kernel_size=11, strides=2,\n",
    "                     padding='same', activation='relu', kernel_initializer='he_normal',\n",
    "                     bias_initializer=Constant(value=0.1), input_shape=X_train_shape)(input_layer)]\n",
    "hidden.append(MaxPool2D(strides=2)(hidden[-1]))\n",
    "\n",
    "for nfilt, ksize  in zip(n_filters, kernel_size):\n",
    "    for i in np.arange(3):\n",
    "        hidden.append(Conv2D(filters=nfilt, kernel_size=ksize, padding='same', activation='relu',\n",
    "                         kernel_initializer='he_normal', bias_initializer=Constant(value=0.1))(hidden[-1]))\n",
    "    hidden.append(MaxPool2D(strides=2)(hidden[-1]))\n",
    "\n",
    "n_filters = [2048, 2048, 5]\n",
    "kernel_size = [7, 1, 1]\n",
    "\n",
    "for nfilt,ksize in zip(n_filters, kernel_size):\n",
    "    hidden.append(Conv2D(filters=nfilt, kernel_size=ksize, padding='same', activation='relu',\n",
    "                        kernel_initializer='he_normal', bias_initializer=Constant(value=0.1))(hidden[-1]))\n",
    "    hidden.append(Dropout(0.5)(hidden[-1]))\n",
    "\n",
    "output_layer = Flatten()(hidden[-1])"
   ]
  },
  {
   "cell_type": "code",
   "execution_count": 4,
   "metadata": {
    "collapsed": false
   },
   "outputs": [
    {
     "data": {
      "text/plain": [
       "[<tf.Tensor 'conv2d_1/Relu:0' shape=(?, 112, 112, 90) dtype=float32>,\n",
       " <tf.Tensor 'max_pooling2d_1/MaxPool:0' shape=(?, 56, 56, 90) dtype=float32>,\n",
       " <tf.Tensor 'conv2d_2/Relu:0' shape=(?, 56, 56, 128) dtype=float32>,\n",
       " <tf.Tensor 'conv2d_3/Relu:0' shape=(?, 56, 56, 128) dtype=float32>,\n",
       " <tf.Tensor 'conv2d_4/Relu:0' shape=(?, 56, 56, 128) dtype=float32>,\n",
       " <tf.Tensor 'max_pooling2d_2/MaxPool:0' shape=(?, 28, 28, 128) dtype=float32>,\n",
       " <tf.Tensor 'conv2d_5/Relu:0' shape=(?, 28, 28, 256) dtype=float32>,\n",
       " <tf.Tensor 'conv2d_6/Relu:0' shape=(?, 28, 28, 256) dtype=float32>,\n",
       " <tf.Tensor 'conv2d_7/Relu:0' shape=(?, 28, 28, 256) dtype=float32>,\n",
       " <tf.Tensor 'max_pooling2d_3/MaxPool:0' shape=(?, 14, 14, 256) dtype=float32>,\n",
       " <tf.Tensor 'conv2d_8/Relu:0' shape=(?, 14, 14, 256) dtype=float32>,\n",
       " <tf.Tensor 'conv2d_9/Relu:0' shape=(?, 14, 14, 256) dtype=float32>,\n",
       " <tf.Tensor 'conv2d_10/Relu:0' shape=(?, 14, 14, 256) dtype=float32>,\n",
       " <tf.Tensor 'max_pooling2d_4/MaxPool:0' shape=(?, 7, 7, 256) dtype=float32>,\n",
       " <tf.Tensor 'conv2d_11/Relu:0' shape=(?, 7, 7, 2048) dtype=float32>,\n",
       " <tf.Tensor 'dropout_1/cond/Merge:0' shape=(?, 7, 7, 2048) dtype=float32>,\n",
       " <tf.Tensor 'conv2d_12/Relu:0' shape=(?, 7, 7, 2048) dtype=float32>,\n",
       " <tf.Tensor 'dropout_2/cond/Merge:0' shape=(?, 7, 7, 2048) dtype=float32>,\n",
       " <tf.Tensor 'conv2d_13/Relu:0' shape=(?, 7, 7, 5) dtype=float32>,\n",
       " <tf.Tensor 'dropout_3/cond/Merge:0' shape=(?, 7, 7, 5) dtype=float32>]"
      ]
     },
     "execution_count": 4,
     "metadata": {},
     "output_type": "execute_result"
    }
   ],
   "source": [
    "hidden"
   ]
  },
  {
   "cell_type": "code",
   "execution_count": 5,
   "metadata": {
    "collapsed": false
   },
   "outputs": [
    {
     "name": "stdout",
     "output_type": "stream",
     "text": [
      "_________________________________________________________________\n",
      "Layer (type)                 Output Shape              Param #   \n",
      "=================================================================\n",
      "input_1 (InputLayer)         (None, 224, 224, 3)       0         \n",
      "_________________________________________________________________\n",
      "conv2d_1 (Conv2D)            (None, 112, 112, 90)      32760     \n",
      "_________________________________________________________________\n",
      "max_pooling2d_1 (MaxPooling2 (None, 56, 56, 90)        0         \n",
      "_________________________________________________________________\n",
      "conv2d_2 (Conv2D)            (None, 56, 56, 128)       103808    \n",
      "_________________________________________________________________\n",
      "conv2d_3 (Conv2D)            (None, 56, 56, 128)       147584    \n",
      "_________________________________________________________________\n",
      "conv2d_4 (Conv2D)            (None, 56, 56, 128)       147584    \n",
      "_________________________________________________________________\n",
      "max_pooling2d_2 (MaxPooling2 (None, 28, 28, 128)       0         \n",
      "_________________________________________________________________\n",
      "conv2d_5 (Conv2D)            (None, 28, 28, 256)       295168    \n",
      "_________________________________________________________________\n",
      "conv2d_6 (Conv2D)            (None, 28, 28, 256)       590080    \n",
      "_________________________________________________________________\n",
      "conv2d_7 (Conv2D)            (None, 28, 28, 256)       590080    \n",
      "_________________________________________________________________\n",
      "max_pooling2d_3 (MaxPooling2 (None, 14, 14, 256)       0         \n",
      "_________________________________________________________________\n",
      "conv2d_8 (Conv2D)            (None, 14, 14, 256)       590080    \n",
      "_________________________________________________________________\n",
      "conv2d_9 (Conv2D)            (None, 14, 14, 256)       590080    \n",
      "_________________________________________________________________\n",
      "conv2d_10 (Conv2D)           (None, 14, 14, 256)       590080    \n",
      "_________________________________________________________________\n",
      "max_pooling2d_4 (MaxPooling2 (None, 7, 7, 256)         0         \n",
      "_________________________________________________________________\n",
      "conv2d_11 (Conv2D)           (None, 7, 7, 2048)        25692160  \n",
      "_________________________________________________________________\n",
      "dropout_1 (Dropout)          (None, 7, 7, 2048)        0         \n",
      "_________________________________________________________________\n",
      "conv2d_12 (Conv2D)           (None, 7, 7, 2048)        4196352   \n",
      "_________________________________________________________________\n",
      "dropout_2 (Dropout)          (None, 7, 7, 2048)        0         \n",
      "_________________________________________________________________\n",
      "conv2d_13 (Conv2D)           (None, 7, 7, 5)           10245     \n",
      "_________________________________________________________________\n",
      "dropout_3 (Dropout)          (None, 7, 7, 5)           0         \n",
      "_________________________________________________________________\n",
      "flatten_1 (Flatten)          (None, 245)               0         \n",
      "=================================================================\n",
      "Total params: 33,576,061\n",
      "Trainable params: 33,576,061\n",
      "Non-trainable params: 0\n",
      "_________________________________________________________________\n"
     ]
    }
   ],
   "source": [
    "model = Model(inputs=input_layer, outputs=output_layer)\n",
    "model.summary()"
   ]
  },
  {
   "cell_type": "code",
   "execution_count": null,
   "metadata": {
    "collapsed": true
   },
   "outputs": [],
   "source": [
    "model.compile(optimizer=adam(lr=1e-3), loss='categorical_crossentropy', metrics=['accuracy'])"
   ]
  }
 ],
 "metadata": {
  "kernelspec": {
   "display_name": "Python [conda env:py36]",
   "language": "python",
   "name": "conda-env-py36-py"
  },
  "language_info": {
   "codemirror_mode": {
    "name": "ipython",
    "version": 3
   },
   "file_extension": ".py",
   "mimetype": "text/x-python",
   "name": "python",
   "nbconvert_exporter": "python",
   "pygments_lexer": "ipython3",
   "version": "3.6.4"
  }
 },
 "nbformat": 4,
 "nbformat_minor": 2
}
