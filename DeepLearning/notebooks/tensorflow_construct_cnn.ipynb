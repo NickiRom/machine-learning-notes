{
 "cells": [
  {
   "cell_type": "code",
   "execution_count": 9,
   "metadata": {
    "collapsed": false
   },
   "outputs": [],
   "source": [
    "import tensorflow as tf\n",
    "import sys\n",
    "\n",
    "sys.path.append('..')\n",
    "from useful_code.construct_cnn import CNNModel"
   ]
  },
  {
   "cell_type": "markdown",
   "metadata": {},
   "source": [
    "### Construct a CNN with Batch Normalization (pre-activation)"
   ]
  },
  {
   "cell_type": "markdown",
   "metadata": {},
   "source": [
    "### Example of graph construction"
   ]
  },
  {
   "cell_type": "code",
   "execution_count": 5,
   "metadata": {
    "collapsed": true
   },
   "outputs": [],
   "source": [
    "imSize = 64\n",
    "numClasses = 19\n",
    "numChan = 2\n",
    "cropSize=60\n",
    "\n",
    "tf.reset_default_graph()\n",
    "\n",
    "input = tf.placeholder('float32', shape=[None,cropSize,cropSize,numChan],\n",
    "                       name='input')\n",
    "is_training=tf.placeholder(tf.bool, [], name='is_training')\n",
    "\n",
    "logits = CNNModel(input, is_training)\n",
    "predicted_y = tf.nn.softmax(logits, name='softmax')"
   ]
  }
 ],
 "metadata": {
  "kernelspec": {
   "display_name": "neusci_train",
   "language": "python",
   "name": "neusci_train"
  },
  "language_info": {
   "codemirror_mode": {
    "name": "ipython",
    "version": 3
   },
   "file_extension": ".py",
   "mimetype": "text/x-python",
   "name": "python",
   "nbconvert_exporter": "python",
   "pygments_lexer": "ipython3",
   "version": "3.6.5"
  }
 },
 "nbformat": 4,
 "nbformat_minor": 2
}
