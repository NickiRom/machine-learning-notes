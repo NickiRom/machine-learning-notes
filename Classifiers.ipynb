{
 "cells": [
  {
   "cell_type": "markdown",
   "metadata": {},
   "source": [
    "#Binary Classifiers\n",
    "\n",
    "A review and taxonomy of classifiers: [Analysis of Parametric and Non-Parametric Classifiers](http://www.mecs-press.org/ijitcs/ijitcs-v4-n7/IJITCS-V4-N7-6.pdf)"
   ]
  },
  {
   "cell_type": "markdown",
   "metadata": {},
   "source": [
    "#Probabilistic Classifiers \n",
    "- a threshold determines which examples are successes"
   ]
  },
  {
   "cell_type": "markdown",
   "metadata": {},
   "source": [
    "##SVM\n",
    "- Score is the distance from a hyperplane\n",
    "- Negative versus positive sign indicates which class it's assigned to"
   ]
  },
  {
   "cell_type": "markdown",
   "metadata": {},
   "source": [
    "#Classification Tree with Orange\n",
    "\n",
    "####node_learner:\n",
    "- default is *MajorityLearner*, which tells relative accuracy if all instances were predicted to be Majority class\n",
    "\n",
    "####descender:\n",
    "- default is *Descender_UnknownMergeAsSelector*, which votes with *branch_selector*'s distribution for vote weights\n",
    "\n",
    "####split:\n",
    "- defines how splits are scored\n",
    "- can be defined to override values of *binarization*, *measure*, *worst_acceptable*, *min_subset*\n",
    "\n",
    "####binarization:\n",
    "-"
   ]
  },
  {
   "cell_type": "markdown",
   "metadata": {},
   "source": [
    "#KNN\n",
    "A non-parametric lazy learner for classification and/or regression\n",
    "\n",
    "<img src='images/knn.png' height=\"500\" width=\"300\">\n",
    "\n",
    "- Training data consists of vectors (in feature space) with labels\n",
    "- Boundaries are drawn by Voronoi Tessellation to divide feature space according to distance to nearest neighbor:\n",
    "\n",
    "<img src='images/voronoi.png' height=\"500\" width=\"300\">"
   ]
  },
  {
   "cell_type": "markdown",
   "metadata": {},
   "source": [
    "#Parametric versus Non-parametric Algorithms\n",
    "\n",
    "**Parametric**\n",
    "--------\n",
    "- Multivariate linear models\n",
    "- Gaussian Mixture Models\n",
    "- Naive Bayes\n",
    "- Support Vector Machines (SVM)\n",
    "- Decision trees\n",
    "\n",
    "**Non-parametric**\n",
    "--------\n",
    "- K-nearest neighbors\n",
    "- Logistic Regression\n",
    "- Neural network\n",
    "- Perceptron\n",
    "- Kernel Density Estimation\n"
   ]
  }
 ],
 "metadata": {
  "kernelspec": {
   "display_name": "Python 2",
   "language": "python",
   "name": "python2"
  },
  "language_info": {
   "codemirror_mode": {
    "name": "ipython",
    "version": 2
   },
   "file_extension": ".py",
   "mimetype": "text/x-python",
   "name": "python",
   "nbconvert_exporter": "python",
   "pygments_lexer": "ipython2",
   "version": "2.7.10"
  }
 },
 "nbformat": 4,
 "nbformat_minor": 0
}
