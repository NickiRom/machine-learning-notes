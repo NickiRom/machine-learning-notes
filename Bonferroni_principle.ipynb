{
 "cells": [
  {
   "cell_type": "markdown",
   "metadata": {},
   "source": [
    "#Bonferroni's Principle\n",
    "\n",
    "###A cautionary tale\n"
   ]
  },
  {
   "cell_type": "markdown",
   "metadata": {},
   "source": [
    "**General idea: ** If you run a test enough times and squint hard enough at the data set, you can get it to tell you just about anything.  That doesn't mean it's true!\n",
    "\n",
    "**Background: ** The expected value of an independent event is generally calculated as:\n",
    "\n",
    "$$E(x) = \\sum_i^{n} x_i p_i$$\n",
    "\n",
    "   Which for binomial outcomes simplifies to:\n",
    "\n",
    "$$E(x) = np(x) $$\n",
    "\n",
    "Intuitively, the number of trials $n$ and the probability of an event $p(x)$ both contribute to the likelihood that you will see an interesting event.  The Bonferroni Principle warns us to tune both the definition of an interesting event ($p(x)$) and the number of trials ($n$) such that the likelihood of flagging true positives is not overpowered by the sheer random probability of our criteria being satisfied.\n",
    "\n",
    "**Am I in danger of being fooled? ** Assuming the data selection method is random, use your sample size to calculate the expected number of interesting events.  If this number is larger than the number of intuitive events you hope to see, your methods of defining an 'interesting event' may not be stringent enough or you may be testing too many times.  You'll have to cull the set of interesting events further to avoid being flooded with False Positives.\n",
    "\n",
    "**What can I do? ** You can either use a more hypothesis-driven approach to define the interesting event (i.e. make your criteria more stringent), or attempt to correct your statistical significance estimations using the Bonferroni Correction."
   ]
  },
  {
   "cell_type": "markdown",
   "metadata": {},
   "source": [
    "###An example illustrating Bonferroni's Principle\n",
    "\n",
    "from [Mining of Massive Datasets](http://infolab.stanford.edu/~ullman/mmds/book.pdf), by Leskovec, Rajaraman, Ullman\n",
    "\n",
    "You are observing hotel visits to try to identify terrorist organization meetings. On average, people visit a hotel 1 in every 100 days.  Each hotel holds 100 people, so we can assume there are 100,000 hotels-- enough to hold 1% of the population each day.  You're examining hotel records over 1000 days.  You define a suspicious duo as people who visited the same hotel at the same time on two occasions."
   ]
  },
  {
   "cell_type": "markdown",
   "metadata": {},
   "source": [
    "- Sample size $n_{people}$\n",
    "- P(hotel visit), given $H_0$: $p_{random}$\n",
    "- number of hotels: $n_{hotels}$\n",
    "- number of days observed $t$"
   ]
  },
  {
   "cell_type": "markdown",
   "metadata": {},
   "source": [
    "Joint probability of two people visiting a hotel on a particular day:\n",
    "\n",
    "$$ p_{random}^2 = 0.0001 $$\n",
    "\n",
    "Probability that both people choose the same hotel:\n",
    "\n",
    "$$\\frac{p_{random}^2}{n_{hotels}}  = \\frac{0.0001}{10^5} = 10^{-9} $$\n",
    "    \n",
    "For the event to be considered interesting, this pair has to visit the same hotel on the same day twice:\n",
    "\n",
    "$$P(event) = (10^{-9})^2 = 10^{-18}$$"
   ]
  },
  {
   "cell_type": "markdown",
   "metadata": {},
   "source": [
    "This is the probability of the interesting event occuring, given random chance.  Let's use the formula for expected value and our sample size n to estimate the number of interesting events we should see by random chance.\n",
    "\n",
    "The number of possible pairs of people is $n_{people}$ choose 2:\n",
    "\n",
    "$$\\frac{n_{people}!}{(n_{people}-2)!~2!} = \\frac{10^9!}{(10^9-2)!~2!} = 5 \\times 10^{17}$$\n",
    "\n",
    "And the number of possible pairs of days for them to visit the same hotel:\n",
    "\n",
    "$$\\frac{t!}{(t-2)!~2!} = \\frac{1000!}{(1000-2)!~2!} = 5 \\times 10^5$$\n",
    "\n",
    "Therefore, the expected value given random chance can be calculated by multiplying the number of possible people-pairs by the number of possible day-pairs and again by the probability of a people-and-day-pair:\n",
    "\n",
    "$$(5 \\times 10^{17}) \\times (5 \\times 10^5) \\times (10^{-18}) = 250,000$$"
   ]
  },
  {
   "cell_type": "markdown",
   "metadata": {},
   "source": [
    "Based on the event criteria and the number of trials (1000 days and 1B people), we can expect that random chance alone would qualify a quarter of a million pairs of people to be flagged as terrorists! Clearly, the experiment needs to be redesigned in order to be effective."
   ]
  },
  {
   "cell_type": "markdown",
   "metadata": {},
   "source": [
    "##Test it out!\n",
    "\n",
    "***note: *** This function uses a simplification of the Binomial Coefficient, which holds true for large n:\n",
    "\n",
    "$$\\frac{n!}{(n-2)!~2!} \\approx \\frac{n^2}{2}$$"
   ]
  },
  {
   "cell_type": "code",
   "execution_count": 114,
   "metadata": {
    "collapsed": false
   },
   "outputs": [],
   "source": [
    "from scipy.special import binom\n",
    "\n",
    "samp= {'s_n_people': 1000000000, 'n_hotels': 100000, 's_n_days':1000}\n",
    "criteria = {'c_n_people': 2, 'c_n_days': 2}\n",
    "\n",
    "def expected_events(samp= {'s_n_people': 1000000000, 'n_hotels': 100000, 's_n_days':1000}, criteria = {'c_n_people': 2, 'c_n_days': 2}, p_hotel_random = 0.01):\n",
    "    # the sample dict includes the number of people, hotels, and days observed.  There is an assumption that the hotels are each big enough to cumulatively hold all people likely to visit a hotel on a given day, given p_hotel_random\n",
    "    # the criteria dict indicates how many people need to colocate at a hotel, and how many times over the course of observation\n",
    "    # p_hotel_random is the probability that any given person visits a hotel on a given day\n",
    "    \n",
    "    # compute probability that two people visit a hotel on a given day\n",
    "    p_1 = p_hotel_random**criteria['c_n_people']\n",
    "    \n",
    "    # probability that it's the same hotel\n",
    "    p_2 = p_1/samp['n_hotels']\n",
    "    \n",
    "    # probability that it occurs the requisite number of times\n",
    "    p_criteria_satisfied = p_2**criteria['c_n_days']\n",
    "    \n",
    "    # compute the number of possible combinations of people\n",
    "    c_people = binom(samp['s_n_people'], criteria['c_n_people'])\n",
    "    \n",
    "    # compute the number of possible combinations of days\n",
    "    c_days = binom(samp['s_n_days'], criteria['c_n_days'])\n",
    "    \n",
    "    # compute the expected value\n",
    "    n_random_events = p_criteria_satisfied*c_people*c_days\n",
    "    \n",
    "    return int(n_random_events)"
   ]
  },
  {
   "cell_type": "code",
   "execution_count": 115,
   "metadata": {
    "collapsed": false
   },
   "outputs": [
    {
     "data": {
      "text/plain": [
       "249749"
      ]
     },
     "execution_count": 115,
     "metadata": {},
     "output_type": "execute_result"
    }
   ],
   "source": [
    "expected_events()"
   ]
  },
  {
   "cell_type": "code",
   "execution_count": 154,
   "metadata": {
    "collapsed": false
   },
   "outputs": [],
   "source": [
    "def events_curve(samp, criteria, x_variable, x_range, n_bins=10):\n",
    "    # give a dictionary of samp and criteria values as above\n",
    "    # this time, specify a variable to change (x_variable) and a range (x_range)\n",
    "    # also provide \n",
    "    x_vars = np.arange(x_range[0], x_range[1], int((x_range[1]-x_range[0])/n_bins))\n",
    "    y = []\n",
    "    \n",
    "    for x in x_vars:\n",
    "        if x_variable in samp:\n",
    "            samp[x_variable] = x\n",
    "            y.append(expected_events(samp, criteria))\n",
    "        elif x_variable in criteria:\n",
    "            criteria[x_variable] = x\n",
    "            y.append(expected_events(samp, criteria))\n",
    "    \n",
    "    plot(x_vars, y, 'g-', x_vars, y, 'b^', linewidth = 2)\n",
    "    xlabel(x_variable)\n",
    "    ylabel('Expected number of events')\n",
    "    \n",
    "    return"
   ]
  },
  {
   "cell_type": "code",
   "execution_count": 155,
   "metadata": {
    "collapsed": false,
    "scrolled": true
   },
   "outputs": [
    {
     "data": {
      "image/png": "[encoded data removed]",
      "text/plain": [
       "<matplotlib.figure.Figure at 0x107b0a190>"
      ]
     },
     "metadata": {},
     "output_type": "display_data"
    }
   ],
   "source": [
    "events_curve(samp, criteria, x_variable = 's_n_days', x_range = [1,1000])"
   ]
  }
 ],
 "metadata": {
  "kernelspec": {
   "display_name": "Python 2",
   "language": "python",
   "name": "python2"
  },
  "language_info": {
   "codemirror_mode": {
    "name": "ipython",
    "version": 2
   },
   "file_extension": ".py",
   "mimetype": "text/x-python",
   "name": "python",
   "nbconvert_exporter": "python",
   "pygments_lexer": "ipython2",
   "version": "2.7.10"
  }
 },
 "nbformat": 4,
 "nbformat_minor": 0
}
